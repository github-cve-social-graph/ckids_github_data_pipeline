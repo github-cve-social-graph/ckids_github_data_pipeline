{
 "cells": [
  {
   "cell_type": "code",
   "execution_count": 18,
   "metadata": {},
   "outputs": [],
   "source": [
    "import json\n",
    "\n",
    "data = []\n",
    "with open(\"dataset/github_commits.json\") as f:\n",
    "    for line in f:\n",
    "        data.append(json.loads(line))"
   ]
  },
  {
   "cell_type": "code",
   "execution_count": 19,
   "metadata": {},
   "outputs": [],
   "source": [
    "import pandas as pd\n",
    "\n",
    "df = pd.json_normalize(data)"
   ]
  },
  {
   "cell_type": "markdown",
   "metadata": {},
   "source": []
  },
  {
   "cell_type": "code",
   "execution_count": 20,
   "metadata": {},
   "outputs": [
    {
     "name": "stdout",
     "output_type": "stream",
     "text": [
      "shape: (633631, 11)\n"
     ]
    },
    {
     "data": {
      "text/html": [
       "<div>\n",
       "<style scoped>\n",
       "    .dataframe tbody tr th:only-of-type {\n",
       "        vertical-align: middle;\n",
       "    }\n",
       "\n",
       "    .dataframe tbody tr th {\n",
       "        vertical-align: top;\n",
       "    }\n",
       "\n",
       "    .dataframe thead th {\n",
       "        text-align: right;\n",
       "    }\n",
       "</style>\n",
       "<table border=\"1\" class=\"dataframe\">\n",
       "  <thead>\n",
       "    <tr style=\"text-align: right;\">\n",
       "      <th></th>\n",
       "      <th>commit</th>\n",
       "      <th>tree</th>\n",
       "      <th>parent</th>\n",
       "      <th>subject</th>\n",
       "      <th>message</th>\n",
       "      <th>repo</th>\n",
       "      <th>author.name</th>\n",
       "      <th>author.email</th>\n",
       "      <th>author.time_sec</th>\n",
       "      <th>author.tz_offset</th>\n",
       "      <th>author.date.seconds</th>\n",
       "    </tr>\n",
       "  </thead>\n",
       "  <tbody>\n",
       "    <tr>\n",
       "      <th>0</th>\n",
       "      <td>aa891f17e0c1125126c12e1b287014dd69806e93</td>\n",
       "      <td>a993a3bd7a9cbb1c58e530b1fad0d469343e24ad</td>\n",
       "      <td>[9f57e19170ed93da4a2e308b356919ebbc301cc7]</td>\n",
       "      <td>[clang] Add clangd documentation</td>\n",
       "      <td>[clang] Add clangd documentation\\n\\nAdd docume...</td>\n",
       "      <td>chromium/chromium</td>\n",
       "      <td>Haojian Wu</td>\n",
       "      <td>ca27d53ab9097d87024465d88d5a742b507e57d9@gmail...</td>\n",
       "      <td>1554476212</td>\n",
       "      <td>0</td>\n",
       "      <td>1554476212</td>\n",
       "    </tr>\n",
       "    <tr>\n",
       "      <th>1</th>\n",
       "      <td>cd4b25edba76a6ecd4b6ff2cd9e6663649aa1d67</td>\n",
       "      <td>14e1b8c595b27c2df04a2bf8ce8e5c0d62322a73</td>\n",
       "      <td>[ab6b83a2f81557c6cd8b0eff1f3306ef1ba87cfc]</td>\n",
       "      <td>Add OWNERS file for content/network.</td>\n",
       "      <td>Add OWNERS file for content/network.\\n\\nBUG=No...</td>\n",
       "      <td>chromium/chromium</td>\n",
       "      <td>rdsmith</td>\n",
       "      <td>8692e49a5d99feee623028da27611d5ca92db77f@chrom...</td>\n",
       "      <td>1492638383</td>\n",
       "      <td>-420</td>\n",
       "      <td>1492638383</td>\n",
       "    </tr>\n",
       "    <tr>\n",
       "      <th>2</th>\n",
       "      <td>d9d12f298ddc011d5c621a47513889c56cce20a2</td>\n",
       "      <td>0ca9835a68adf80f8c98f24170b50f29f653d7c7</td>\n",
       "      <td>[5e55f2568b344cf8fac05eb5c535e7cc6aaacadb]</td>\n",
       "      <td>RenderSubtree: Add a fieldset perftest.</td>\n",
       "      <td>RenderSubtree: Add a fieldset perftest.\\n\\nThi...</td>\n",
       "      <td>chromium/chromium</td>\n",
       "      <td>Vladimir Levin</td>\n",
       "      <td>8725865b9599790ed3778b39dc8e6dce7c901da3@chrom...</td>\n",
       "      <td>1578515323</td>\n",
       "      <td>0</td>\n",
       "      <td>1578515323</td>\n",
       "    </tr>\n",
       "    <tr>\n",
       "      <th>3</th>\n",
       "      <td>5b5906fc316e7c9cbd1b869ffa5499c30fbdb9b9</td>\n",
       "      <td>6574664bd669a6f4e442d0e87d3c9b8e50d9155c</td>\n",
       "      <td>[db789cec2a9c6c96c1c0770db8fd20117d897d48]</td>\n",
       "      <td>CSS: parsing tests for sizing properties</td>\n",
       "      <td>CSS: parsing tests for sizing properties\\n\\nWe...</td>\n",
       "      <td>chromium/chromium</td>\n",
       "      <td>Eric Willigers</td>\n",
       "      <td>1f4abbcd3e1e2b3265a21aff61b02343fb361457@chrom...</td>\n",
       "      <td>1557142569</td>\n",
       "      <td>0</td>\n",
       "      <td>1557142569</td>\n",
       "    </tr>\n",
       "    <tr>\n",
       "      <th>4</th>\n",
       "      <td>7eec667b47b35671945e6d9b20238636c303e50c</td>\n",
       "      <td>8beb2e0c4e30acd5da6fbdd92eeb13a7e3b66f63</td>\n",
       "      <td>[1cecab463353bdbb4ad45bef32d5f7b0f6c3663c]</td>\n",
       "      <td>Reland \"[PE] Ensure update of LayoutSVGShape::...</td>\n",
       "      <td>Reland \"[PE] Ensure update of LayoutSVGShape::...</td>\n",
       "      <td>chromium/chromium</td>\n",
       "      <td>Xianzhu Wang</td>\n",
       "      <td>56bf68553a6eeecbbaf7c80da87195a59c9681bb@chrom...</td>\n",
       "      <td>1528322487</td>\n",
       "      <td>0</td>\n",
       "      <td>1528322487</td>\n",
       "    </tr>\n",
       "  </tbody>\n",
       "</table>\n",
       "</div>"
      ],
      "text/plain": [
       "                                     commit  \\\n",
       "0  aa891f17e0c1125126c12e1b287014dd69806e93   \n",
       "1  cd4b25edba76a6ecd4b6ff2cd9e6663649aa1d67   \n",
       "2  d9d12f298ddc011d5c621a47513889c56cce20a2   \n",
       "3  5b5906fc316e7c9cbd1b869ffa5499c30fbdb9b9   \n",
       "4  7eec667b47b35671945e6d9b20238636c303e50c   \n",
       "\n",
       "                                       tree  \\\n",
       "0  a993a3bd7a9cbb1c58e530b1fad0d469343e24ad   \n",
       "1  14e1b8c595b27c2df04a2bf8ce8e5c0d62322a73   \n",
       "2  0ca9835a68adf80f8c98f24170b50f29f653d7c7   \n",
       "3  6574664bd669a6f4e442d0e87d3c9b8e50d9155c   \n",
       "4  8beb2e0c4e30acd5da6fbdd92eeb13a7e3b66f63   \n",
       "\n",
       "                                       parent  \\\n",
       "0  [9f57e19170ed93da4a2e308b356919ebbc301cc7]   \n",
       "1  [ab6b83a2f81557c6cd8b0eff1f3306ef1ba87cfc]   \n",
       "2  [5e55f2568b344cf8fac05eb5c535e7cc6aaacadb]   \n",
       "3  [db789cec2a9c6c96c1c0770db8fd20117d897d48]   \n",
       "4  [1cecab463353bdbb4ad45bef32d5f7b0f6c3663c]   \n",
       "\n",
       "                                             subject  \\\n",
       "0                   [clang] Add clangd documentation   \n",
       "1               Add OWNERS file for content/network.   \n",
       "2            RenderSubtree: Add a fieldset perftest.   \n",
       "3           CSS: parsing tests for sizing properties   \n",
       "4  Reland \"[PE] Ensure update of LayoutSVGShape::...   \n",
       "\n",
       "                                             message               repo  \\\n",
       "0  [clang] Add clangd documentation\\n\\nAdd docume...  chromium/chromium   \n",
       "1  Add OWNERS file for content/network.\\n\\nBUG=No...  chromium/chromium   \n",
       "2  RenderSubtree: Add a fieldset perftest.\\n\\nThi...  chromium/chromium   \n",
       "3  CSS: parsing tests for sizing properties\\n\\nWe...  chromium/chromium   \n",
       "4  Reland \"[PE] Ensure update of LayoutSVGShape::...  chromium/chromium   \n",
       "\n",
       "      author.name                                       author.email  \\\n",
       "0      Haojian Wu  ca27d53ab9097d87024465d88d5a742b507e57d9@gmail...   \n",
       "1         rdsmith  8692e49a5d99feee623028da27611d5ca92db77f@chrom...   \n",
       "2  Vladimir Levin  8725865b9599790ed3778b39dc8e6dce7c901da3@chrom...   \n",
       "3  Eric Willigers  1f4abbcd3e1e2b3265a21aff61b02343fb361457@chrom...   \n",
       "4    Xianzhu Wang  56bf68553a6eeecbbaf7c80da87195a59c9681bb@chrom...   \n",
       "\n",
       "  author.time_sec author.tz_offset author.date.seconds  \n",
       "0      1554476212                0          1554476212  \n",
       "1      1492638383             -420          1492638383  \n",
       "2      1578515323                0          1578515323  \n",
       "3      1557142569                0          1557142569  \n",
       "4      1528322487                0          1528322487  "
      ]
     },
     "execution_count": 20,
     "metadata": {},
     "output_type": "execute_result"
    }
   ],
   "source": [
    "print(\"shape:\", df.shape)\n",
    "df.head()"
   ]
  },
  {
   "cell_type": "code",
   "execution_count": 6,
   "metadata": {},
   "outputs": [
    {
     "data": {
      "text/plain": [
       "6705"
      ]
     },
     "execution_count": 6,
     "metadata": {},
     "output_type": "execute_result"
    }
   ],
   "source": [
    "# number of contirbutors\n",
    "len(df[\"author.name\"].unique())"
   ]
  },
  {
   "cell_type": "code",
   "execution_count": 7,
   "metadata": {},
   "outputs": [
    {
     "name": "stdout",
     "output_type": "stream",
     "text": [
      "first commit: 2013-09-27 13:58:57\n",
      "last commit: 2022-04-14 00:40:02\n"
     ]
    }
   ],
   "source": [
    "# time of the first and last commit\n",
    "from datetime import datetime\n",
    "\n",
    "fts = int(df[\"author.time_sec\"].min())\n",
    "lts = int(df[\"author.time_sec\"].max())\n",
    "\n",
    "print(\"first commit:\", datetime.fromtimestamp(fts))\n",
    "print(\"last commit:\", datetime.fromtimestamp(lts))"
   ]
  },
  {
   "cell_type": "code",
   "execution_count": 25,
   "metadata": {},
   "outputs": [],
   "source": [
    "from neo4j import GraphDatabase\n",
    "from dotenv import load_dotenv\n",
    "import os\n",
    "\n",
    "# manually create a .env file with the \n",
    "# required variables in the same directory first\n",
    "load_dotenv()\n",
    "user = os.getenv(\"NEO4J_USERNAME\", \"neo4j\")\n",
    "pwd = os.getenv(\"NEO4J_PASSWORD\", \"abcde\")\n",
    "uri = os.getenv(\"NEO4J_URI\", \"neo4j+s://xxxxxxxx.databases.neo4j.io\")\n",
    "\n",
    "driver = GraphDatabase.driver(uri, auth=(user, pwd))"
   ]
  },
  {
   "cell_type": "markdown",
   "metadata": {},
   "source": [
    "**Reminder:** We use driver to create a seesion to access Neo4j database. While executing the transactions, you should not run any other cells, otherwise the session will be interrupted."
   ]
  },
  {
   "cell_type": "code",
   "execution_count": 27,
   "metadata": {},
   "outputs": [],
   "source": [
    "def create_user(tx, name, email):\n",
    "    tx.run(\"CREATE (:User {name: $name, email: $email})\", name=name, email=email)\n",
    "\n",
    "def create_commit(tx, hash, title):\n",
    "    tx.run(\"CREATE (:Commit {hash: $hash, title: $title})\", hash=hash, title=title)\n",
    "\n",
    "def create_authorship(tx, user_name, commit_hash):\n",
    "    tx.run(\"\"\"\n",
    "        MATCH (a:User {name: $name})\n",
    "        MATCH (b:Commit {hash: $hash})\n",
    "        MERGE (a)-[:AUTHOR]->(b)\"\"\",\n",
    "        name=user_name, hash=commit_hash)"
   ]
  },
  {
   "cell_type": "code",
   "execution_count": 17,
   "metadata": {},
   "outputs": [],
   "source": [
    "# add contirbutors to the graph\n",
    "contirbutors = df[[\"author.name\", \"author.email\"]].drop_duplicates()\n",
    "with driver.session() as s:\n",
    "    for i in range(len(contirbutors)):\n",
    "        s.write_transaction(create_user, contirbutors.iloc[i, 0], contirbutors.iloc[i, 1])"
   ]
  },
  {
   "cell_type": "code",
   "execution_count": null,
   "metadata": {},
   "outputs": [],
   "source": [
    "# add commits and their relationships to the graph\n",
    "with driver.session() as s:\n",
    "    for i in range(len(df)):\n",
    "        s.write_transaction(create_commit, df.loc[i, \"commit\"], df.loc[i, \"subject\"])\n",
    "        s.write_transaction(create_authorship, df.loc[i, \"author.name\"], df.loc[i, \"commit\"])"
   ]
  }
 ],
 "metadata": {
  "interpreter": {
   "hash": "b0fa6594d8f4cbf19f97940f81e996739fb7646882a419484c72d19e05852a7e"
  },
  "kernelspec": {
   "display_name": "Python 3.9.12 64-bit",
   "language": "python",
   "name": "python3"
  },
  "language_info": {
   "codemirror_mode": {
    "name": "ipython",
    "version": 3
   },
   "file_extension": ".py",
   "mimetype": "text/x-python",
   "name": "python",
   "nbconvert_exporter": "python",
   "pygments_lexer": "ipython3",
   "version": "3.9.12"
  },
  "orig_nbformat": 4
 },
 "nbformat": 4,
 "nbformat_minor": 2
}
